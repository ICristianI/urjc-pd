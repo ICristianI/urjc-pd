{
 "cells": [
  {
   "cell_type": "markdown",
   "metadata": {},
   "source": [
    "# Programación declarativa @ URJC\n",
    "# Programación funcional\n",
    "## Examen Convocatoria Extraordinaria (2 de julio de 2021)\n",
    "## Curso 2020-2021"
   ]
  },
  {
   "cell_type": "markdown",
   "metadata": {},
   "source": [
    "# Definiciones auxiliares"
   ]
  },
  {
   "cell_type": "code",
   "execution_count": null,
   "metadata": {},
   "outputs": [],
   "source": [
    "import $ivy.`org.scalatest::scalatest:3.0.8`\n",
    "import org.scalatest._"
   ]
  },
  {
   "cell_type": "code",
   "execution_count": 1,
   "metadata": {},
   "outputs": [
    {
     "data": {
      "text/plain": [
       "\u001b[32mimport \u001b[39m\u001b[36m$ivy.$                                \n",
       "\u001b[39m\r\n",
       "\u001b[32mimport \u001b[39m\u001b[36morg.scalatest.{Filter => _, _}, flatspec._, matchers._\r\n",
       "\u001b[39m"
      ]
     },
     "execution_count": 1,
     "metadata": {},
     "output_type": "execute_result"
    }
   ],
   "source": [
    "import $ivy.`org.scalatest::scalatest:3.2.16`\n",
    "import org.scalatest.{Filter => _, _}, flatspec._, matchers._"
   ]
  },
  {
   "cell_type": "markdown",
   "metadata": {},
   "source": [
    "### Algunas funciones sobre tipos estándar de la librería de Scala"
   ]
  },
  {
   "cell_type": "code",
   "execution_count": 2,
   "metadata": {},
   "outputs": [
    {
     "data": {
      "text/plain": [
       "defined \u001b[32mobject\u001b[39m \u001b[36mSignatures\u001b[39m"
      ]
     },
     "execution_count": 2,
     "metadata": {},
     "output_type": "execute_result"
    }
   ],
   "source": [
    "object Signatures{\n",
    "    abstract class List[A]{\n",
    "        \n",
    "        // Common HOFs\n",
    "        def foldRight[B](directSol: B)(composeSol: (A, B) => B): B\n",
    "        def foldLeft[B](initial: B)(update: (B, A) => B): B\n",
    "        def map[B](f: A => B): List[B]\n",
    "        def flatMap[B](f: A => List[B]): List[B]\n",
    "        def filter(f: A => Boolean): List[A]\n",
    "        def forall(pred: A => Boolean): Boolean\n",
    "        def exists(pred: A => Boolean): Boolean\n",
    "        \n",
    "        // Reverse a list\n",
    "        // e.g. List(1,2,3).reverse==List(3,2,1)\n",
    "        def reverse: List[A]\n",
    "        \n",
    "        // Take the first `n` elements of the list\n",
    "        // e.g. List(1,2,3).take(2) == List(1,2)\n",
    "        //      List(1,2,3).take(0) == List()\n",
    "        //      List(1,2,3).take(5) == List(1,2,3)\n",
    "        def take(n: Int): List[A]\n",
    "        \n",
    "        // Drop the first `n` elements of the list \n",
    "        // e.g. List(1,2,3).drop(2) == List(3)\n",
    "        //      List(1,2,3).drop(0) == List(1,2,3)\n",
    "        //      List(1,2,3).drop(4) == List()\n",
    "        def drop(n: Int): List[A]\n",
    "\n",
    "        // List concatenation\n",
    "        // e.g. List(1,2,3).concat(List(4,5)) == List(1,2,3,4,5)\n",
    "        def concat(l: List[A]): List[A]\n",
    "    }\n",
    "    \n",
    "    abstract class Option[A]{\n",
    "        // Test whether the value is defined (i.e. `Some`) or not (i.e. `None`)\n",
    "        def isDefined: Boolean \n",
    "        def map[B](f: A => B): Option[B]\n",
    "    }\n",
    "    \n",
    "    abstract class Either[A, B]{\n",
    "        // Test whether the value is left or right\n",
    "        def isLeft: Boolean \n",
    "        def isRight: Boolean \n",
    "        def map[C](f: B => C): Either[A, C]\n",
    "    }\n",
    "}"
   ]
  },
  {
   "cell_type": "markdown",
   "metadata": {},
   "source": [
    "### Definiciones auxiliares sobre la correspondencia Curry-Howard"
   ]
  },
  {
   "cell_type": "code",
   "execution_count": 3,
   "metadata": {},
   "outputs": [
    {
     "data": {
      "text/plain": [
       "defined \u001b[32mtype\u001b[39m \u001b[36mNot\u001b[39m\r\n",
       "defined \u001b[32mtype\u001b[39m \u001b[36m<=>\u001b[39m\r\n",
       "defined \u001b[32mtype\u001b[39m \u001b[36mOr\u001b[39m\r\n",
       "defined \u001b[32mtype\u001b[39m \u001b[36mAnd\u001b[39m"
      ]
     },
     "execution_count": 3,
     "metadata": {},
     "output_type": "execute_result"
    }
   ],
   "source": [
    "type Not[P] = P => Nothing\n",
    "type <=>[P, Q] = (P => Q, Q => P)\n",
    "type Or[P, Q] = Either[P, Q]\n",
    "type And[P, Q] = (P, Q)"
   ]
  },
  {
   "cell_type": "markdown",
   "metadata": {},
   "source": [
    "# Ejercicio 1\n",
    "\n",
    "\n",
    "__a) (2 puntos)__ Utiliza la correspondencia de Curry-Howard para demostrar que las siguientes proposiciones representan teoremas de la lógica intuicionista: \n",
    "\n",
    "$\\vdash \\neg (p \\vee q) \\rightarrow \\neg p \\wedge \\neg q$\n"
   ]
  },
  {
   "cell_type": "code",
   "execution_count": 4,
   "metadata": {},
   "outputs": [
    {
     "data": {
      "text/plain": [
       "defined \u001b[32mfunction\u001b[39m \u001b[36mproof\u001b[39m"
      ]
     },
     "execution_count": 4,
     "metadata": {},
     "output_type": "execute_result"
    }
   ],
   "source": [
    "def proof[P, Q]: (Not[Either[P, Q]]) => (Not[P], Not[Q]) = \n",
    "    ??? : ((Not[Either[P,Q]]) => Not[P] => Not[Q])"
   ]
  },
  {
   "cell_type": "code",
   "execution_count": 9,
   "metadata": {},
   "outputs": [
    {
     "data": {
      "text/plain": [
       "defined \u001b[32mfunction\u001b[39m \u001b[36mproof\u001b[39m"
      ]
     },
     "execution_count": 9,
     "metadata": {},
     "output_type": "execute_result"
    }
   ],
   "source": [
    "def proof[P, Q]:((Either[P, Q] => Nothing)) => ((P => Nothing), (Q => Nothing)) = \n",
    "    (e : (Either[P,Q] => Nothing)) => \n",
    "        ??? : ((P => Nothing), (Q => Nothing))"
   ]
  },
  {
   "cell_type": "code",
   "execution_count": 10,
   "metadata": {},
   "outputs": [
    {
     "data": {
      "text/plain": [
       "defined \u001b[32mfunction\u001b[39m \u001b[36mproof\u001b[39m"
      ]
     },
     "execution_count": 10,
     "metadata": {},
     "output_type": "execute_result"
    }
   ],
   "source": [
    "def proof[P, Q]:((Either[P, Q] => Nothing)) => ((P => Nothing), (Q => Nothing)) = \n",
    "    (e : (Either[P,Q] => Nothing)) => \n",
    "        ( (p:P) => ??? : Nothing, \n",
    "            (q:Q) => ??? : Nothing)"
   ]
  },
  {
   "cell_type": "code",
   "execution_count": 11,
   "metadata": {},
   "outputs": [
    {
     "data": {
      "text/plain": [
       "defined \u001b[32mfunction\u001b[39m \u001b[36mproof\u001b[39m"
      ]
     },
     "execution_count": 11,
     "metadata": {},
     "output_type": "execute_result"
    }
   ],
   "source": [
    "def proof[P, Q]:((Either[P, Q] => Nothing)) => ((P => Nothing), (Q => Nothing)) = \n",
    "    (e : (Either[P,Q] => Nothing)) => \n",
    "        ( (p:P) => e(Left(p)) : Nothing, \n",
    "            (q:Q) => e(Right(q)) : Nothing)"
   ]
  },
  {
   "cell_type": "code",
   "execution_count": null,
   "metadata": {},
   "outputs": [],
   "source": [
    "def proof[P, Q](p1: Not[Either[P, Q]]): (Not[P], Not[Q]) = \n",
    "    ((p:P) => p1(Left(p)), \n",
    "     (q: Q) => p1(Right(q)))"
   ]
  },
  {
   "cell_type": "markdown",
   "metadata": {},
   "source": [
    "$\\vdash \\neg p \\wedge \\neg q \\rightarrow \\neg (p \\vee q)$"
   ]
  },
  {
   "cell_type": "code",
   "execution_count": 11,
   "metadata": {},
   "outputs": [
    {
     "name": "stderr",
     "output_type": "stream",
     "text": [
      "-- [E007] Type Mismatch Error: cmd12.sc:2:4 ------------------------------------\n",
      "2 |    ( (np:(P => Nothing)) => ??? : (Either[P, Q] => Nothing), \n",
      "  |    ^\n",
      "  |Found:    ((P => Nothing) => Either[P, Q] => Nothing, (Q => Nothing) => Either[P, Q] =>\n",
      "  |  Nothing)\n",
      "  |Required: ((P => Nothing, Q => Nothing)) => Either[P, Q] => Nothing\n",
      "  |\n",
      "  |The following import might make progress towards fixing the problem:\n",
      "  |\n",
      "  |  import sourcecode.Text.generate\n",
      "  |\n",
      "3 |     (nq:(Q => Nothing)) => ??? : (Either[P, Q] => Nothing))\n",
      "  |\n",
      "  | longer explanation available when compiling with `-explain`\n",
      "Compilation Failed"
     ]
    }
   ],
   "source": [
    "def proof[P, Q]: ((P => Nothing, Q => Nothing)) => (Either[P, Q] => Nothing) = \n",
    "    ( (np:(P => Nothing)) => ??? : (Either[P, Q] => Nothing), \n",
    "     (nq:(Q => Nothing)) => ??? : (Either[P, Q] => Nothing))\n",
    "    \n"
   ]
  },
  {
   "cell_type": "code",
   "execution_count": null,
   "metadata": {},
   "outputs": [],
   "source": [
    "def proof[P, Q]: ((P => Nothing, Q => Nothing)) => (Either[P, Q] => Nothing) = \n",
    "    (t : (P=>Nothing, Q=>Nothing)) =>\n",
    "        t match\n",
    "            case (p,q) => \n",
    "    "
   ]
  },
  {
   "cell_type": "code",
   "execution_count": null,
   "metadata": {},
   "outputs": [],
   "source": []
  },
  {
   "cell_type": "code",
   "execution_count": null,
   "metadata": {},
   "outputs": [],
   "source": [
    "def proof[P, Q](p1: (Not[P], Not[Q])): Not[Either[P, Q]]  = \n",
    "    { \n",
    "        case Left(p) => p1._1(p)\n",
    "        case Right(q) => p1._2(q)\n",
    "    }"
   ]
  },
  {
   "cell_type": "markdown",
   "metadata": {},
   "source": [
    "__b) (1 punto)__ Utiliza la correspondencia de Curry-Howard para demostrar el siguiente teorema de la lógica clásica: \n",
    "\n",
    "$\\vdash \\neg(\\neg p \\vee \\neg q) \\rightarrow p \\wedge q$\n",
    "\n",
    "Supóngase para ello que la ley del tercio excluso se cumple para las variables proposicionales $p$ y $q$, es decir, que las fórmulas $p ∨ ¬p$ y $q ∨ ¬q$  pueden utilizarse como premisas.\n"
   ]
  },
  {
   "cell_type": "code",
   "execution_count": null,
   "metadata": {},
   "outputs": [],
   "source": [
    "def proof[P, Q](pnp: Either[P, Not[P]], qnq: Either[Q, Not[Q]]): Not[Either[Not[P], Not[Q]]] => (P, Q) = \n",
    "    (f: Either[Not[P], Not[Q]] => Nothing) => \n",
    "        (pnp, qnq) match {\n",
    "            case (Left(p), Left(q)) => (p, q)\n",
    "            case (Left(p), Right(nq)) => (p, f(Right(nq)))\n",
    "            case (Right(np), Left(q)) => (f(Left(np)), q)\n",
    "            case (Right(np), Right(nq)) => (f(Left(np)), f(Right(nq)))\n",
    "        }"
   ]
  },
  {
   "cell_type": "code",
   "execution_count": null,
   "metadata": {},
   "outputs": [],
   "source": []
  },
  {
   "cell_type": "markdown",
   "metadata": {},
   "source": [
    "# Ejercicio 2 \n",
    "__(2 puntos)__"
   ]
  },
  {
   "cell_type": "markdown",
   "metadata": {},
   "source": [
    "Demuestra el isomorfismo entre tipos algebraicos de datos correspondiente a la siguiente igualdad algebraica: \n",
    "\n",
    "<p style=\"text-align: center;\">$(y*z)^x = y^x*z^x$, para todo $x$, $y$, $z \\in \\mathbb{N}$</p>"
   ]
  },
  {
   "cell_type": "code",
   "execution_count": 13,
   "metadata": {},
   "outputs": [
    {
     "data": {
      "text/plain": [
       "defined \u001b[32mfunction\u001b[39m \u001b[36mfrom\u001b[39m"
      ]
     },
     "execution_count": 13,
     "metadata": {},
     "output_type": "execute_result"
    }
   ],
   "source": [
    "def from[X, Y, Z](f: X => (Y, Z)): (X => Y, X => Z) = \n",
    "    ??? : (X => Y, X => Z)"
   ]
  },
  {
   "cell_type": "code",
   "execution_count": 14,
   "metadata": {},
   "outputs": [
    {
     "data": {
      "text/plain": [
       "defined \u001b[32mfunction\u001b[39m \u001b[36mfrom\u001b[39m"
      ]
     },
     "execution_count": 14,
     "metadata": {},
     "output_type": "execute_result"
    }
   ],
   "source": [
    "def from[X, Y, Z](f: X => (Y, Z)): (X => Y, X => Z) = \n",
    "    ((x:X) => ??? : Y,\n",
    "     (x:X) => ??? : Z)"
   ]
  },
  {
   "cell_type": "code",
   "execution_count": 15,
   "metadata": {},
   "outputs": [
    {
     "data": {
      "text/plain": [
       "defined \u001b[32mfunction\u001b[39m \u001b[36mfrom\u001b[39m"
      ]
     },
     "execution_count": 15,
     "metadata": {},
     "output_type": "execute_result"
    }
   ],
   "source": [
    "def from[X, Y, Z](f: X => (Y, Z)): (X => Y, X => Z) = \n",
    "    ((x:X) => f(x)._1 : Y,\n",
    "     (x:X) => f(x)._2 : Z)"
   ]
  },
  {
   "cell_type": "code",
   "execution_count": 12,
   "metadata": {},
   "outputs": [
    {
     "data": {
      "text/plain": [
       "defined \u001b[32mfunction\u001b[39m \u001b[36mfrom\u001b[39m"
      ]
     },
     "execution_count": 12,
     "metadata": {},
     "output_type": "execute_result"
    }
   ],
   "source": [
    "def from[X, Y, Z](f: X => (Y, Z)): (X => Y, X => Z) = \n",
    "    (x => f(x)._1, x => f(x)._2)\n"
   ]
  },
  {
   "cell_type": "code",
   "execution_count": null,
   "metadata": {},
   "outputs": [],
   "source": [
    "def to[X, Y, Z](t: (X => Y, X => Z)): X => (Y, Z)  = \n",
    "    x => (t._1(x), t._2(x))\n"
   ]
  },
  {
   "cell_type": "markdown",
   "metadata": {},
   "source": [
    "# Ejercicio 3 (variante A)\n",
    "__(5 puntos)__\n",
    "\n",
    "La función `split` recibe una lista de pares y devuelve un par de listas formadas por los elementos de la primera y segunda componentes de cada par, respectivamente. El comportamiento de la función se ilustra en el siguiente test unitario:\n"
   ]
  },
  {
   "cell_type": "code",
   "execution_count": 16,
   "metadata": {},
   "outputs": [
    {
     "data": {
      "text/plain": [
       "defined \u001b[32mclass\u001b[39m \u001b[36mSplitTest_A\u001b[39m"
      ]
     },
     "execution_count": 16,
     "metadata": {},
     "output_type": "execute_result"
    }
   ],
   "source": [
    "class SplitTest_A(\n",
    "    split: List[(Int, Boolean)] => (List[Int], List[Boolean])\n",
    ") extends AnyFlatSpec with should.Matchers{\n",
    "    \"split\" should \"work\" in {\n",
    "        split(List()) shouldBe (List(), List())\n",
    "        split(List((1, true), (2, false), (3, true))) shouldBe (List(1,2,3), List(true, false, true))\n",
    "        split(List((0, true), (0, true))) shouldBe (List(0,0), List(true, true))\n",
    "    }\n",
    "}"
   ]
  },
  {
   "cell_type": "markdown",
   "metadata": {},
   "source": [
    "__a) (1 punto)__ Implementa la función `split` de manera recursiva (no final)."
   ]
  },
  {
   "cell_type": "code",
   "execution_count": 17,
   "metadata": {},
   "outputs": [
    {
     "data": {
      "text/plain": [
       "defined \u001b[32mfunction\u001b[39m \u001b[36msplit\u001b[39m"
      ]
     },
     "execution_count": 17,
     "metadata": {},
     "output_type": "execute_result"
    }
   ],
   "source": [
    "def split[A,B] (l: (List[(A,B)])): (List[A],List[B]) =\n",
    "    l match \n",
    "        case Nil => (Nil,Nil)\n",
    "        case ((a,b) :: tail) =>\n",
    "            ((a:: split(tail)._1), (b :: split(tail)._2))\n",
    "            "
   ]
  },
  {
   "cell_type": "code",
   "execution_count": 18,
   "metadata": {},
   "outputs": [
    {
     "data": {
      "text/plain": [
       "defined \u001b[32mfunction\u001b[39m \u001b[36msplitR_A\u001b[39m"
      ]
     },
     "execution_count": 18,
     "metadata": {},
     "output_type": "execute_result"
    }
   ],
   "source": [
    "def splitR_A[A, B](l: List[(A, B)]): (List[A], List[B]) = \n",
    "    l match {\n",
    "        case Nil => (Nil, Nil)\n",
    "        case (a,b) :: tail => \n",
    "            val (la, lb) = splitR_A(tail)\n",
    "            (a :: la, b :: lb)\n",
    "    }"
   ]
  },
  {
   "cell_type": "code",
   "execution_count": 20,
   "metadata": {},
   "outputs": [
    {
     "name": "stdout",
     "output_type": "stream",
     "text": [
      "\u001b[32mcmd16$Helper$SplitTest_A:\u001b[0m\n",
      "\u001b[32msplit\u001b[0m\n",
      "\u001b[32m- should work\u001b[0m\n"
     ]
    }
   ],
   "source": [
    "run(new SplitTest_A(split))"
   ]
  },
  {
   "cell_type": "code",
   "execution_count": 21,
   "metadata": {},
   "outputs": [
    {
     "data": {
      "text/plain": [
       "defined \u001b[32mfunction\u001b[39m \u001b[36msplit\u001b[39m"
      ]
     },
     "execution_count": 21,
     "metadata": {},
     "output_type": "execute_result"
    }
   ],
   "source": [
    "def split[A,B] (l: (List[(A,B)])): (List[A],List[B]) =\n",
    "    l.foldRight((List[A](),List[B]())):\n",
    "        case ((a,b),(c,d)) =>\n",
    "            ((a:: c), (b :: d))\n",
    "    \n",
    "            "
   ]
  },
  {
   "cell_type": "markdown",
   "metadata": {},
   "source": [
    "__b) (1 punto)__ Implementa la función `split` utilizando __`foldRight`__."
   ]
  },
  {
   "cell_type": "code",
   "execution_count": null,
   "metadata": {},
   "outputs": [],
   "source": [
    "def splitFR_A[A, B](l: List[(A, B)]): (List[A], List[B]) = \n",
    "    l.foldRight((List[A](), List[B]())){\n",
    "        case ((a,b), (la, lb)) => \n",
    "            (a :: la, b :: lb)\n",
    "    }"
   ]
  },
  {
   "cell_type": "code",
   "execution_count": 22,
   "metadata": {},
   "outputs": [
    {
     "name": "stdout",
     "output_type": "stream",
     "text": [
      "\u001b[32mcmd16$Helper$SplitTest_A:\u001b[0m\n",
      "\u001b[32msplit\u001b[0m\n",
      "\u001b[32m- should work\u001b[0m\n"
     ]
    }
   ],
   "source": [
    "run(new SplitTest_A(split))"
   ]
  },
  {
   "cell_type": "markdown",
   "metadata": {},
   "source": [
    "__c) (1 punto)__ Implementa la función `split` mediante recursión por cola (o final):"
   ]
  },
  {
   "cell_type": "code",
   "execution_count": 24,
   "metadata": {},
   "outputs": [
    {
     "data": {
      "text/plain": [
       "defined \u001b[32mfunction\u001b[39m \u001b[36msplit\u001b[39m"
      ]
     },
     "execution_count": 24,
     "metadata": {},
     "output_type": "execute_result"
    }
   ],
   "source": [
    "def split[A, B](l: List[(A, B)]): (List[A], List[B]) = \n",
    "    def aux(remaining: List[(A, B)], out: (List[A], List[B])): (List[A], List[B]) =\n",
    "        remaining match\n",
    "            case Nil => out\n",
    "            case (c, d) :: tail => aux(tail, (c :: out._1, d :: out._2))\n",
    "\n",
    "    val (as, bs) = aux(l, (Nil, Nil))\n",
    "    (as.reverse, bs.reverse)\n",
    "\n",
    "            "
   ]
  },
  {
   "cell_type": "code",
   "execution_count": null,
   "metadata": {},
   "outputs": [],
   "source": [
    "def splitTR_A[A, B](l: List[(A, B)]): (List[A], List[B]) = {\n",
    "    def aux(acc: (List[A], List[B]), l: List[(A, B)]): (List[A], List[B]) = \n",
    "        (acc, l) match {\n",
    "            case (_, Nil) => \n",
    "                acc\n",
    "            case ((la, lb), (a, b) :: tail) => \n",
    "                aux((a :: la, b :: lb), tail)\n",
    "        }\n",
    "    \n",
    "    aux((Nil, Nil), l) match {\n",
    "        case (la, lb) => (la.reverse, lb.reverse)\n",
    "    }\n",
    "}"
   ]
  },
  {
   "cell_type": "code",
   "execution_count": 25,
   "metadata": {},
   "outputs": [
    {
     "name": "stdout",
     "output_type": "stream",
     "text": [
      "\u001b[32mcmd16$Helper$SplitTest_A:\u001b[0m\n",
      "\u001b[32msplit\u001b[0m\n",
      "\u001b[32m- should work\u001b[0m\n"
     ]
    }
   ],
   "source": [
    "run(new SplitTest_A(split))"
   ]
  },
  {
   "cell_type": "markdown",
   "metadata": {},
   "source": [
    "__d) (1 punto)__ Implementa la función `split` utilizando __`foldLeft`__."
   ]
  },
  {
   "cell_type": "code",
   "execution_count": 29,
   "metadata": {},
   "outputs": [
    {
     "data": {
      "text/plain": [
       "defined \u001b[32mfunction\u001b[39m \u001b[36msplit\u001b[39m"
      ]
     },
     "execution_count": 29,
     "metadata": {},
     "output_type": "execute_result"
    }
   ],
   "source": [
    "def split[A,B] (l: (List[(A,B)])): (List[A],List[B]) = \n",
    "    val (x,y) = l.foldLeft((List[A](),List[B]())){\n",
    "        case ((a,b),(c,d)) =>\n",
    "            (c :: a, d :: b)\n",
    "    }\n",
    "    (x.reverse, y.reverse)\n",
    "\n",
    "\n",
    "\n",
    "\n",
    "    \n",
    "         \n"
   ]
  },
  {
   "cell_type": "code",
   "execution_count": null,
   "metadata": {},
   "outputs": [],
   "source": [
    "def splitFL_A[A, B](l: List[(A, B)]): (List[A], List[B]) = \n",
    "    l.foldLeft((List[A](), List[B]())){\n",
    "        case ((la, lb), (a,b)) => \n",
    "            (a :: la, b :: lb)\n",
    "    } match {\n",
    "        case (la, lb) => (la.reverse, lb.reverse)\n",
    "    }"
   ]
  },
  {
   "cell_type": "code",
   "execution_count": 30,
   "metadata": {},
   "outputs": [
    {
     "name": "stdout",
     "output_type": "stream",
     "text": [
      "\u001b[32mcmd16$Helper$SplitTest_A:\u001b[0m\n",
      "\u001b[32msplit\u001b[0m\n",
      "\u001b[32m- should work\u001b[0m\n"
     ]
    }
   ],
   "source": [
    "run(new SplitTest_A(split))"
   ]
  },
  {
   "cell_type": "markdown",
   "metadata": {},
   "source": [
    "__e) (1 punto)__ Dada una lista de puntos del plano representados mediante coordenadas polares, se desean obtener los valores de las abscisas y ordenadas de sus coordenadas rectangulares. Concretamente, dados los tipos de datos:"
   ]
  },
  {
   "cell_type": "code",
   "execution_count": 31,
   "metadata": {},
   "outputs": [
    {
     "data": {
      "text/plain": [
       "defined \u001b[32mclass\u001b[39m \u001b[36mPolar\u001b[39m\r\n",
       "defined \u001b[32mtype\u001b[39m \u001b[36mRectangular\u001b[39m"
      ]
     },
     "execution_count": 31,
     "metadata": {},
     "output_type": "execute_result"
    }
   ],
   "source": [
    "case class Polar(radius: Double, angle: Double)\n",
    "type Rectangular = (Double, Double)"
   ]
  },
  {
   "cell_type": "markdown",
   "metadata": {},
   "source": [
    "y la función de conversión entre coordenadas polares y rectangulares: "
   ]
  },
  {
   "cell_type": "code",
   "execution_count": 32,
   "metadata": {},
   "outputs": [
    {
     "data": {
      "text/plain": [
       "\u001b[32mimport \u001b[39m\u001b[36mscala.math.{Pi, sin, cos}\n",
       "\n",
       "\u001b[39m\r\n",
       "defined \u001b[32mfunction\u001b[39m \u001b[36mfrom\u001b[39m"
      ]
     },
     "execution_count": 32,
     "metadata": {},
     "output_type": "execute_result"
    }
   ],
   "source": [
    "import scala.math.{Pi, sin, cos}\n",
    "\n",
    "def from(p: Polar): Rectangular = \n",
    "    (p.radius * cos(p.angle), p.radius * sin(p.angle))"
   ]
  },
  {
   "cell_type": "markdown",
   "metadata": {},
   "source": [
    "se desea implementar una función `components` que satisfaga el siguiente test unitario:"
   ]
  },
  {
   "cell_type": "code",
   "execution_count": 33,
   "metadata": {},
   "outputs": [
    {
     "data": {
      "text/plain": [
       "defined \u001b[32mclass\u001b[39m \u001b[36mComponentsTest\u001b[39m"
      ]
     },
     "execution_count": 33,
     "metadata": {},
     "output_type": "execute_result"
    }
   ],
   "source": [
    "class ComponentsTest(\n",
    "    components: List[Polar] => (List[Double], List[Double])\n",
    ") extends AnyFlatSpec with should.Matchers{\n",
    "    \"components\" should \"work\" in {\n",
    "        components(List(Polar(1,0), Polar(2,Pi/4), Polar(3,Pi/2), Polar(4,Pi))) shouldBe \n",
    "            (List(cos(0), 2*cos(Pi/4), 3*cos(Pi/2), 4*cos(Pi)), \n",
    "            List(sin(0), 2*sin(Pi/4), 3*sin(Pi/2), 4*sin(Pi)))\n",
    "    }\n",
    "}"
   ]
  },
  {
   "cell_type": "markdown",
   "metadata": {},
   "source": [
    "Implementa la función `components` utilizando la función `split` y alguna de las funciones de orden superior explicadas en clase (`map`, `flatMap`, `foldLeft`, `foldRight`, etc.), de tal forma que la implementación sea lo más __concisa__ posible."
   ]
  },
  {
   "cell_type": "code",
   "execution_count": 34,
   "metadata": {},
   "outputs": [
    {
     "data": {
      "text/plain": [
       "defined \u001b[32mfunction\u001b[39m \u001b[36mcomponents\u001b[39m"
      ]
     },
     "execution_count": 34,
     "metadata": {},
     "output_type": "execute_result"
    }
   ],
   "source": [
    "def components(l:List[Polar]): (List[Double],List[Double]) =\n",
    "    ??? : (List[Double],List[Double])"
   ]
  },
  {
   "cell_type": "code",
   "execution_count": 35,
   "metadata": {},
   "outputs": [
    {
     "data": {
      "text/plain": [
       "defined \u001b[32mfunction\u001b[39m \u001b[36mcomponents\u001b[39m"
      ]
     },
     "execution_count": 35,
     "metadata": {},
     "output_type": "execute_result"
    }
   ],
   "source": [
    "def components(l:List[Polar]): (List[Double],List[Double]) =\n",
    "    split(l.map(from))"
   ]
  },
  {
   "cell_type": "code",
   "execution_count": null,
   "metadata": {},
   "outputs": [],
   "source": [
    "def components(l: List[Polar]): (List[Double], List[Double]) = \n",
    "    splitR_A(l.map(from))"
   ]
  },
  {
   "cell_type": "code",
   "execution_count": 36,
   "metadata": {},
   "outputs": [
    {
     "name": "stdout",
     "output_type": "stream",
     "text": [
      "\u001b[32mcmd33$Helper$ComponentsTest:\u001b[0m\n",
      "\u001b[32mcomponents\u001b[0m\n",
      "\u001b[32m- should work\u001b[0m\n"
     ]
    }
   ],
   "source": [
    "run(new ComponentsTest(components))"
   ]
  },
  {
   "cell_type": "markdown",
   "metadata": {},
   "source": [
    "# Ejercicio 3 (variante B)\n",
    "__(5 puntos)__\n",
    "\n",
    "La función `split` recibe una lista de valores de tipo `Either`, y devuelve un par de listas formadas por los elementos de tipo `Left` y `Right`, respectivamente. El comportamiento de la función se ilustra en el siguiente test unitario:\n"
   ]
  },
  {
   "cell_type": "code",
   "execution_count": null,
   "metadata": {},
   "outputs": [],
   "source": [
    "class SplitTest_B(\n",
    "    split: List[Either[Int, Boolean]] => (List[Int], List[Boolean])\n",
    ") extends FlatSpec with Matchers{\n",
    "    \"split\" should \"work\" in {\n",
    "        split(List()) shouldBe (List(), List())\n",
    "        split(List(Left(1), Right(false), Left(3))) shouldBe (List(1,3), List(false))\n",
    "        split(List(Right(true), Right(true))) shouldBe (List(), List(true, true))\n",
    "    }\n",
    "}"
   ]
  },
  {
   "cell_type": "markdown",
   "metadata": {},
   "source": [
    "__a) (1 punto)__ Implementa la función `split` de manera recursiva (no final)."
   ]
  },
  {
   "cell_type": "code",
   "execution_count": null,
   "metadata": {},
   "outputs": [],
   "source": [
    "def splitR_B[A, B](l: List[Either[A, B]]): (List[A], List[B]) = \n",
    "    l match {\n",
    "        case Nil => (Nil, Nil)\n",
    "        case head :: tail => \n",
    "            (head, splitR_B(tail)) match {\n",
    "                case (Left(a), (la, lb)) => \n",
    "                    (a :: la, lb)\n",
    "                case (Right(b), (la, lb)) => \n",
    "                    (la, b :: lb)\n",
    "            }\n",
    "    }"
   ]
  },
  {
   "cell_type": "code",
   "execution_count": null,
   "metadata": {},
   "outputs": [],
   "source": [
    "run(new SplitTest_B(splitR_B))"
   ]
  },
  {
   "cell_type": "markdown",
   "metadata": {},
   "source": [
    "__b) (1 punto)__ Implementa la función `split` utilizando __`foldRight`__."
   ]
  },
  {
   "cell_type": "code",
   "execution_count": null,
   "metadata": {},
   "outputs": [],
   "source": [
    "def splitFR_B[A, B](l: List[Either[A, B]]): (List[A], List[B]) = \n",
    "    l.foldRight((List[A](), List[B]())){\n",
    "        case (Left(a), (la, lb)) => \n",
    "            (a :: la, lb)\n",
    "        case (Right(b), (la, lb)) => \n",
    "            (la, b :: lb)\n",
    "    }"
   ]
  },
  {
   "cell_type": "code",
   "execution_count": null,
   "metadata": {},
   "outputs": [],
   "source": [
    "run(new SplitTest_B(splitFR_B))"
   ]
  },
  {
   "cell_type": "markdown",
   "metadata": {},
   "source": [
    "__c) (1 punto)__ Implementa la función `split` mediante recursión por cola (o final):"
   ]
  },
  {
   "cell_type": "code",
   "execution_count": null,
   "metadata": {},
   "outputs": [],
   "source": [
    "def splitTR_B[A, B](l: List[Either[A, B]]): (List[A], List[B]) = {\n",
    "    def aux(acc: (List[A], List[B]), l: List[Either[A, B]]): (List[A], List[B]) = \n",
    "        (acc, l) match {\n",
    "            case (_, Nil) => \n",
    "                acc\n",
    "            case ((la, lb), Left(a) :: tail) => \n",
    "                aux((a :: la, lb), tail)\n",
    "            case ((la, lb), Right(b) :: tail) => \n",
    "                aux((la, b :: lb), tail)\n",
    "        }\n",
    "    \n",
    "    aux((Nil, Nil), l) match {\n",
    "        case (la, lb) => (la.reverse, lb.reverse)\n",
    "    }\n",
    "}"
   ]
  },
  {
   "cell_type": "code",
   "execution_count": null,
   "metadata": {},
   "outputs": [],
   "source": [
    "run(new SplitTest_B(splitTR_B))"
   ]
  },
  {
   "cell_type": "markdown",
   "metadata": {},
   "source": [
    "__d) (1 punto)__ Implementa la función `split` utilizando __`foldLeft`__."
   ]
  },
  {
   "cell_type": "code",
   "execution_count": null,
   "metadata": {},
   "outputs": [],
   "source": [
    "def splitFL_B[A, B](l: List[Either[A, B]]): (List[A], List[B]) = \n",
    "    l.foldLeft((List[A](), List[B]())){\n",
    "        case ((la, lb), Left(a)) => \n",
    "            (a :: la, lb)\n",
    "        case ((la, lb), Right(b)) => \n",
    "            (la, b :: lb)\n",
    "    } match {\n",
    "        case (la, lb) => (la.reverse, lb.reverse)\n",
    "    }"
   ]
  },
  {
   "cell_type": "code",
   "execution_count": null,
   "metadata": {},
   "outputs": [],
   "source": [
    "run(new SplitTest_B(splitFL_B))"
   ]
  },
  {
   "cell_type": "markdown",
   "metadata": {},
   "source": [
    "__e) (1 punto)__ Implementa la función `split` utilizando la función de orden superior `filter`:"
   ]
  },
  {
   "cell_type": "code",
   "execution_count": null,
   "metadata": {},
   "outputs": [],
   "source": [
    "def splitF[A, B](l: List[Either[A, B]]): (List[A], List[B]) = \n",
    "    (l.filter(_.isLeft).map{ case Left(a) => a}, \n",
    "     l.filter(_.isRight).map{ case Right(b) => b})"
   ]
  },
  {
   "cell_type": "code",
   "execution_count": null,
   "metadata": {},
   "outputs": [],
   "source": [
    "run(new SplitTest_B(splitF))"
   ]
  },
  {
   "cell_type": "code",
   "execution_count": null,
   "metadata": {},
   "outputs": [],
   "source": []
  }
 ],
 "metadata": {
  "kernelspec": {
   "display_name": "Scala",
   "language": "scala",
   "name": "scala"
  },
  "language_info": {
   "codemirror_mode": "text/x-scala",
   "file_extension": ".sc",
   "mimetype": "text/x-scala",
   "name": "scala",
   "nbconvert_exporter": "script",
   "version": "2.13.14"
  }
 },
 "nbformat": 4,
 "nbformat_minor": 4
}
